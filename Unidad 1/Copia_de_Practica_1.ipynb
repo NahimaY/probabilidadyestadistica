{
  "nbformat": 4,
  "nbformat_minor": 0,
  "metadata": {
    "colab": {
      "provenance": [],
      "include_colab_link": true
    },
    "kernelspec": {
      "name": "python3",
      "display_name": "Python 3"
    },
    "language_info": {
      "name": "python"
    }
  },
  "cells": [
    {
      "cell_type": "markdown",
      "metadata": {
        "id": "view-in-github",
        "colab_type": "text"
      },
      "source": [
        "<a href=\"https://colab.research.google.com/github/NahimaY/probabilidadyestadistica/blob/main/Unidad%201/Copia_de_Practica_1.ipynb\" target=\"_parent\"><img src=\"https://colab.research.google.com/assets/colab-badge.svg\" alt=\"Open In Colab\"/></a>"
      ]
    },
    {
      "cell_type": "code",
      "execution_count": null,
      "metadata": {
        "id": "z-isiP97yFf7",
        "colab": {
          "base_uri": "https://localhost:8080/",
          "height": 106
        },
        "outputId": "5c32bcdb-a738-4a58-8c9e-e4e74fdc5220"
      },
      "outputs": [
        {
          "output_type": "error",
          "ename": "IndentationError",
          "evalue": "unexpected indent (<ipython-input-1-52b65b96bc52>, line 3)",
          "traceback": [
            "\u001b[0;36m  File \u001b[0;32m\"<ipython-input-1-52b65b96bc52>\"\u001b[0;36m, line \u001b[0;32m3\u001b[0m\n\u001b[0;31m    grupoa = [70, 70, 65, 90, 100, 95, 45, 80, 73, 20, 100 , 96]\u001b[0m\n\u001b[0m    ^\u001b[0m\n\u001b[0;31mIndentationError\u001b[0m\u001b[0;31m:\u001b[0m unexpected indent\n"
          ]
        }
      ],
      "source": [
        "from statistics import *\n",
        "    # lista de calificaciones del grupo a probabilidad y estsadistica\n",
        "    grupoa = [70, 70, 65, 90, 100, 95, 45, 80, 73, 20, 100 , 96]\n",
        "    print(grupoa)\n",
        "    [70, 70, 65, 90, 100, 95, 45, 80, 73, 20, 100, 96]\n",
        "    promedio2 = mean(grupoa)\n",
        "    print(promedio2)\n"
      ]
    },
    {
      "cell_type": "code",
      "source": [
        "from statistics import *\n",
        "# lista de calificaciones del grupo a probabilidad y estsadistica\n",
        "grupoa = [70, 70, 65, 90, 100, 95, 45, 80, 73, 20, 100, 96]\n",
        "print(\"el promedio del grupo es =>\", mean(grupoa))\n",
        "mediana = median(grupoa)\n",
        "print(\"la mediana del grupo es =>\", mediana)\n",
        "moda = mode(\"grupoa\")\n",
        "print(\"la moda del grupo es =>\", moda)\n",
        "#cuando hay mas de una moda se pone multimodas en lugar de moda\n",
        "[70, 70, 65, 90, 100, 95, 45, 80, 73, 20, 100, 96]\n",
        "\n",
        "moda2  = multimode(grupoa)\n",
        "print(moda2)"
      ],
      "metadata": {
        "colab": {
          "base_uri": "https://localhost:8080/"
        },
        "id": "hUFNP5UBRoTl",
        "outputId": "f712bd00-88c3-440d-91b3-ff0e4824681e"
      },
      "execution_count": null,
      "outputs": [
        {
          "output_type": "stream",
          "name": "stdout",
          "text": [
            "el promedio del grupo es => 75.33333333333333\n",
            "la mediana del grupo es => 76.5\n",
            "la moda del grupo es => g\n",
            "[70, 100]\n"
          ]
        }
      ]
    },
    {
      "cell_type": "code",
      "source": [
        "tiempos100mts = [15.10, 17.20, 14.69, 13.27, 22.15, 18.71, 19.15, 20.65, 15.10, 17.20]\n",
        "\n",
        "print(tiempos100mts)\n",
        "print(\"el tiempo promedio de los corredores es =>\", mean(tiempos100mts))\n",
        "mediana = median(tiempos100mts)\n",
        "print(\"la mediana de los tiempos de los corredores  es =>\", mediana)\n",
        "moda = mode (tiempos100mts)\n",
        "print(\"la moda de los tiemmpos es=>\", moda )\n",
        "#cuando hay mas de una moda se pone multimodas en lugar de moda"
      ],
      "metadata": {
        "colab": {
          "base_uri": "https://localhost:8080/"
        },
        "id": "6OWFEMzARycV",
        "outputId": "97afe473-aee6-4f0b-9cac-2b887591b717"
      },
      "execution_count": null,
      "outputs": [
        {
          "output_type": "stream",
          "name": "stdout",
          "text": [
            "[15.1, 17.2, 14.69, 13.27, 22.15, 18.71, 19.15, 20.65, 15.1, 17.2]\n",
            "el tiempo promedio de los corredores es => 17.322\n",
            "la mediana de los tiempos de los corredores  es => 17.2\n",
            "la moda de los tiemmpos es=> 15.1\n"
          ]
        }
      ]
    },
    {
      "cell_type": "code",
      "source": [
        "import random\n",
        "fabrica1 = []\n",
        "for i in range(100):\n",
        "    numero_aleatorio = round( random.uniform(50, 100), 2)\n",
        "    fabrica1.append(numero_aleatorio)\n",
        "print(fabrica1)"
      ],
      "metadata": {
        "colab": {
          "base_uri": "https://localhost:8080/"
        },
        "id": "Z3XU3XJnR2nX",
        "outputId": "0919a0e8-bd4f-42a5-aba7-e46ff627fa8f"
      },
      "execution_count": null,
      "outputs": [
        {
          "output_type": "stream",
          "name": "stdout",
          "text": [
            "[63.52, 71.81, 60.2, 66.78, 62.5, 75.82, 99.71, 81.97, 70.13, 73.62, 63.86, 65.4, 53.88, 95.43, 99.34, 55.27, 82.69, 60.67, 77.57, 67.07, 53.16, 57.68, 62.78, 89.34, 86.48, 82.04, 89.29, 61.13, 99.88, 92.21, 50.43, 96.35, 98.47, 91.84, 56.94, 97.37, 89.44, 85.39, 60.92, 81.5, 77.08, 57.43, 95.23, 69.93, 96.16, 71.4, 51.16, 54.92, 80.49, 79.2, 50.23, 59.08, 52.2, 58.59, 57.73, 50.53, 67.14, 84.74, 63.2, 82.8, 58.09, 95.3, 60.29, 94.35, 96.09, 58.06, 72.63, 61.42, 83.11, 60.3, 79.67, 94.21, 93.24, 99.08, 92.07, 56.53, 94.7, 66.79, 64.67, 71.0, 95.35, 77.29, 72.57, 91.95, 65.0, 91.98, 61.0, 72.61, 78.26, 85.15, 79.23, 93.83, 86.82, 61.32, 50.87, 91.52, 68.86, 91.57, 88.77, 52.6]\n"
          ]
        }
      ]
    },
    {
      "cell_type": "code",
      "source": [
        "import random\n",
        "fabrica2 = []\n",
        "for i in range(100):\n",
        "    numero_aleatorio = round( random.uniform(50, 100), 2)\n",
        "    fabrica2.append(numero_aleatorio)\n",
        "print(fabrica2)\n",
        "\n",
        "import matplotlib.pyplot as plt\n",
        "[  ] plt.hist(fabrica2)"
      ],
      "metadata": {
        "colab": {
          "base_uri": "https://localhost:8080/",
          "height": 106
        },
        "id": "6Z74IoIxR5_i",
        "outputId": "a09b447f-a95e-4bda-a491-48c7c56517a0"
      },
      "execution_count": null,
      "outputs": [
        {
          "output_type": "error",
          "ename": "SyntaxError",
          "evalue": "invalid syntax (<ipython-input-5-312ad78c5388>, line 9)",
          "traceback": [
            "\u001b[0;36m  File \u001b[0;32m\"<ipython-input-5-312ad78c5388>\"\u001b[0;36m, line \u001b[0;32m9\u001b[0m\n\u001b[0;31m    [  ] plt.hist(fabrica2)\u001b[0m\n\u001b[0m         ^\u001b[0m\n\u001b[0;31mSyntaxError\u001b[0m\u001b[0;31m:\u001b[0m invalid syntax\n"
          ]
        }
      ]
    },
    {
      "cell_type": "code",
      "source": [
        "media1 = mean(fabrica1)\n",
        "mediana1 = median (fabrica1)\n",
        "moda1 = mode (fabtica1)\n",
        "\n",
        "print(\"Valores de la fabrica 1\")\n",
        "print(\"La media es =\", media1)\n",
        "print(\"La mediana es =\", mediana1)\n",
        "print(\"La moda es =\", moda1)"
      ],
      "metadata": {
        "colab": {
          "base_uri": "https://localhost:8080/",
          "height": 211
        },
        "id": "vhP1hNVTR8qZ",
        "outputId": "395b4a4c-0754-4934-ba62-c181cee531ba"
      },
      "execution_count": null,
      "outputs": [
        {
          "output_type": "error",
          "ename": "NameError",
          "evalue": "name 'fabtica1' is not defined",
          "traceback": [
            "\u001b[0;31m---------------------------------------------------------------------------\u001b[0m",
            "\u001b[0;31mNameError\u001b[0m                                 Traceback (most recent call last)",
            "\u001b[0;32m<ipython-input-6-795b372c3a8c>\u001b[0m in \u001b[0;36m<cell line: 0>\u001b[0;34m()\u001b[0m\n\u001b[1;32m      1\u001b[0m \u001b[0mmedia1\u001b[0m \u001b[0;34m=\u001b[0m \u001b[0mmean\u001b[0m\u001b[0;34m(\u001b[0m\u001b[0mfabrica1\u001b[0m\u001b[0;34m)\u001b[0m\u001b[0;34m\u001b[0m\u001b[0;34m\u001b[0m\u001b[0m\n\u001b[1;32m      2\u001b[0m \u001b[0mmediana1\u001b[0m \u001b[0;34m=\u001b[0m \u001b[0mmedian\u001b[0m \u001b[0;34m(\u001b[0m\u001b[0mfabrica1\u001b[0m\u001b[0;34m)\u001b[0m\u001b[0;34m\u001b[0m\u001b[0;34m\u001b[0m\u001b[0m\n\u001b[0;32m----> 3\u001b[0;31m \u001b[0mmoda1\u001b[0m \u001b[0;34m=\u001b[0m \u001b[0mmode\u001b[0m \u001b[0;34m(\u001b[0m\u001b[0mfabtica1\u001b[0m\u001b[0;34m)\u001b[0m\u001b[0;34m\u001b[0m\u001b[0;34m\u001b[0m\u001b[0m\n\u001b[0m\u001b[1;32m      4\u001b[0m \u001b[0;34m\u001b[0m\u001b[0m\n\u001b[1;32m      5\u001b[0m \u001b[0mprint\u001b[0m\u001b[0;34m(\u001b[0m\u001b[0;34m\"Valores de la fabrica 1\"\u001b[0m\u001b[0;34m)\u001b[0m\u001b[0;34m\u001b[0m\u001b[0;34m\u001b[0m\u001b[0m\n",
            "\u001b[0;31mNameError\u001b[0m: name 'fabtica1' is not defined"
          ]
        }
      ]
    },
    {
      "cell_type": "code",
      "source": [
        "media2 = mean(fabrica2)\n",
        "mediana2 = median (fabrica2)\n",
        "moda2 = mode (fabtica2)\n",
        "\n",
        "print(\"Valores de la fabrica 2\")\n",
        "print(\"La media es =\", media2)\n",
        "print(\"La mediana es =\", mediana2)\n",
        "print(\"La moda es =\", moda2)"
      ],
      "metadata": {
        "colab": {
          "base_uri": "https://localhost:8080/",
          "height": 211
        },
        "id": "1F2NyObaSCNo",
        "outputId": "7c01a6ab-7221-44d2-99ff-904d43ea9fdd"
      },
      "execution_count": null,
      "outputs": [
        {
          "output_type": "error",
          "ename": "NameError",
          "evalue": "name 'fabrica2' is not defined",
          "traceback": [
            "\u001b[0;31m---------------------------------------------------------------------------\u001b[0m",
            "\u001b[0;31mNameError\u001b[0m                                 Traceback (most recent call last)",
            "\u001b[0;32m<ipython-input-7-69cda02ad6cf>\u001b[0m in \u001b[0;36m<cell line: 0>\u001b[0;34m()\u001b[0m\n\u001b[0;32m----> 1\u001b[0;31m \u001b[0mmedia2\u001b[0m \u001b[0;34m=\u001b[0m \u001b[0mmean\u001b[0m\u001b[0;34m(\u001b[0m\u001b[0mfabrica2\u001b[0m\u001b[0;34m)\u001b[0m\u001b[0;34m\u001b[0m\u001b[0;34m\u001b[0m\u001b[0m\n\u001b[0m\u001b[1;32m      2\u001b[0m \u001b[0mmediana2\u001b[0m \u001b[0;34m=\u001b[0m \u001b[0mmedian\u001b[0m \u001b[0;34m(\u001b[0m\u001b[0mfabrica2\u001b[0m\u001b[0;34m)\u001b[0m\u001b[0;34m\u001b[0m\u001b[0;34m\u001b[0m\u001b[0m\n\u001b[1;32m      3\u001b[0m \u001b[0mmoda2\u001b[0m \u001b[0;34m=\u001b[0m \u001b[0mmode\u001b[0m \u001b[0;34m(\u001b[0m\u001b[0mfabtica2\u001b[0m\u001b[0;34m)\u001b[0m\u001b[0;34m\u001b[0m\u001b[0;34m\u001b[0m\u001b[0m\n\u001b[1;32m      4\u001b[0m \u001b[0;34m\u001b[0m\u001b[0m\n\u001b[1;32m      5\u001b[0m \u001b[0mprint\u001b[0m\u001b[0;34m(\u001b[0m\u001b[0;34m\"Valores de la fabrica 2\"\u001b[0m\u001b[0;34m)\u001b[0m\u001b[0;34m\u001b[0m\u001b[0;34m\u001b[0m\u001b[0m\n",
            "\u001b[0;31mNameError\u001b[0m: name 'fabrica2' is not defined"
          ]
        }
      ]
    },
    {
      "cell_type": "code",
      "source": [
        "# generar 2 subplot de 1 renglon por 2 columnas para desplegar los 2 histogramas\n",
        "# una al lado de la otra\n",
        "fig, (ax1, ax2) = plt.subplots(nrows =1, ncols=2, figsix¿ze=(10,5))\n",
        "ax1.hist(fabrica1)\n",
        "ax2.hist(fabrica2)\n",
        "plt.show()"
      ],
      "metadata": {
        "id": "DgTzsfIySEoW"
      },
      "execution_count": null,
      "outputs": []
    },
    {
      "cell_type": "code",
      "source": [
        "plt.hist(fabrica1, binns=10, alpha=0.2, color='b', edgecolor = \"black\")\n",
        "plt.axvline(media1, color='b', linestyle='dashed', linewidth=2, label='media')\n",
        "plt.axvline(mediana1, color='r', linestyle='dashed', linewidth=2, label='mediana')\n",
        "plt.axvline(moda1, color='y', linestyle = 'dashed', linewidth=2, label= 'moda')\n",
        "plt.xlabel('valor')\n",
        "plt.ylabel('Frecuencia')\n",
        "plt.title(\"Produccion diaria de la fabrica 1\")\n",
        "plt.legend()\n",
        "plt,show()"
      ],
      "metadata": {
        "id": "3fgT99ULSI97"
      },
      "execution_count": null,
      "outputs": []
    },
    {
      "cell_type": "code",
      "source": [
        "plt.hist(fabrica2, binns=10, alpha=0.2, color='b', edgecolor = \"black\")\n",
        "plt.axvline(media2, color='b', linestyle='dashed', linewidth=2, label='media')\n",
        "plt.axvline(mediana2, color='r', linestyle='dashed', linewidth=2, label='mediana')\n",
        "plt.axvline(moda2, color='y', linestyle = 'dashed', linewidth=2, label= 'moda')\n",
        "plt.xlabel('valor')\n",
        "plt.ylabel('Frecuencia')\n",
        "plt.title(\"Produccion diaria de la fabrica 1\")\n",
        "plt.legend()\n",
        "plt,show()"
      ],
      "metadata": {
        "id": "Ud_lXMLmSLXy",
        "outputId": "6be27f2a-4315-4b44-bb7a-f924ea4d8821",
        "colab": {
          "base_uri": "https://localhost:8080/",
          "height": 211
        }
      },
      "execution_count": null,
      "outputs": [
        {
          "output_type": "error",
          "ename": "NameError",
          "evalue": "name 'plt' is not defined",
          "traceback": [
            "\u001b[0;31m---------------------------------------------------------------------------\u001b[0m",
            "\u001b[0;31mNameError\u001b[0m                                 Traceback (most recent call last)",
            "\u001b[0;32m<ipython-input-2-3ca64060d803>\u001b[0m in \u001b[0;36m<cell line: 0>\u001b[0;34m()\u001b[0m\n\u001b[0;32m----> 1\u001b[0;31m \u001b[0mplt\u001b[0m\u001b[0;34m.\u001b[0m\u001b[0mhist\u001b[0m\u001b[0;34m(\u001b[0m\u001b[0mfabrica2\u001b[0m\u001b[0;34m,\u001b[0m \u001b[0mbinns\u001b[0m\u001b[0;34m=\u001b[0m\u001b[0;36m10\u001b[0m\u001b[0;34m,\u001b[0m \u001b[0malpha\u001b[0m\u001b[0;34m=\u001b[0m\u001b[0;36m0.2\u001b[0m\u001b[0;34m,\u001b[0m \u001b[0mcolor\u001b[0m\u001b[0;34m=\u001b[0m\u001b[0;34m'b'\u001b[0m\u001b[0;34m,\u001b[0m \u001b[0medgecolor\u001b[0m \u001b[0;34m=\u001b[0m \u001b[0;34m\"black\"\u001b[0m\u001b[0;34m)\u001b[0m\u001b[0;34m\u001b[0m\u001b[0;34m\u001b[0m\u001b[0m\n\u001b[0m\u001b[1;32m      2\u001b[0m \u001b[0mplt\u001b[0m\u001b[0;34m.\u001b[0m\u001b[0maxvline\u001b[0m\u001b[0;34m(\u001b[0m\u001b[0mmedia2\u001b[0m\u001b[0;34m,\u001b[0m \u001b[0mcolor\u001b[0m\u001b[0;34m=\u001b[0m\u001b[0;34m'b'\u001b[0m\u001b[0;34m,\u001b[0m \u001b[0mlinestyle\u001b[0m\u001b[0;34m=\u001b[0m\u001b[0;34m'dashed'\u001b[0m\u001b[0;34m,\u001b[0m \u001b[0mlinewidth\u001b[0m\u001b[0;34m=\u001b[0m\u001b[0;36m2\u001b[0m\u001b[0;34m,\u001b[0m \u001b[0mlabel\u001b[0m\u001b[0;34m=\u001b[0m\u001b[0;34m'media'\u001b[0m\u001b[0;34m)\u001b[0m\u001b[0;34m\u001b[0m\u001b[0;34m\u001b[0m\u001b[0m\n\u001b[1;32m      3\u001b[0m \u001b[0mplt\u001b[0m\u001b[0;34m.\u001b[0m\u001b[0maxvline\u001b[0m\u001b[0;34m(\u001b[0m\u001b[0mmediana2\u001b[0m\u001b[0;34m,\u001b[0m \u001b[0mcolor\u001b[0m\u001b[0;34m=\u001b[0m\u001b[0;34m'r'\u001b[0m\u001b[0;34m,\u001b[0m \u001b[0mlinestyle\u001b[0m\u001b[0;34m=\u001b[0m\u001b[0;34m'dashed'\u001b[0m\u001b[0;34m,\u001b[0m \u001b[0mlinewidth\u001b[0m\u001b[0;34m=\u001b[0m\u001b[0;36m2\u001b[0m\u001b[0;34m,\u001b[0m \u001b[0mlabel\u001b[0m\u001b[0;34m=\u001b[0m\u001b[0;34m'mediana'\u001b[0m\u001b[0;34m)\u001b[0m\u001b[0;34m\u001b[0m\u001b[0;34m\u001b[0m\u001b[0m\n\u001b[1;32m      4\u001b[0m \u001b[0mplt\u001b[0m\u001b[0;34m.\u001b[0m\u001b[0maxvline\u001b[0m\u001b[0;34m(\u001b[0m\u001b[0mmoda2\u001b[0m\u001b[0;34m,\u001b[0m \u001b[0mcolor\u001b[0m\u001b[0;34m=\u001b[0m\u001b[0;34m'y'\u001b[0m\u001b[0;34m,\u001b[0m \u001b[0mlinestyle\u001b[0m \u001b[0;34m=\u001b[0m \u001b[0;34m'dashed'\u001b[0m\u001b[0;34m,\u001b[0m \u001b[0mlinewidth\u001b[0m\u001b[0;34m=\u001b[0m\u001b[0;36m2\u001b[0m\u001b[0;34m,\u001b[0m \u001b[0mlabel\u001b[0m\u001b[0;34m=\u001b[0m \u001b[0;34m'moda'\u001b[0m\u001b[0;34m)\u001b[0m\u001b[0;34m\u001b[0m\u001b[0;34m\u001b[0m\u001b[0m\n\u001b[1;32m      5\u001b[0m \u001b[0mplt\u001b[0m\u001b[0;34m.\u001b[0m\u001b[0mxlabel\u001b[0m\u001b[0;34m(\u001b[0m\u001b[0;34m'valor'\u001b[0m\u001b[0;34m)\u001b[0m\u001b[0;34m\u001b[0m\u001b[0;34m\u001b[0m\u001b[0m\n",
            "\u001b[0;31mNameError\u001b[0m: name 'plt' is not defined"
          ]
        }
      ]
    }
  ]
}